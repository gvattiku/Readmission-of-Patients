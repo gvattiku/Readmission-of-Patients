{
  "nbformat": 4,
  "nbformat_minor": 0,
  "metadata": {
    "colab": {
      "name": "DecisionTree",
      "provenance": [],
      "collapsed_sections": []
    },
    "kernelspec": {
      "name": "python3",
      "display_name": "Python 3"
    }
  },
  "cells": [
    {
      "cell_type": "code",
      "metadata": {
        "id": "ocFRskP0sEAV",
        "colab_type": "code",
        "colab": {}
      },
      "source": [
        "import pandas as pd\n",
        "from sklearn.model_selection import train_test_split\n",
        "from sklearn.preprocessing import StandardScaler\n",
        "from sklearn.metrics import accuracy_score\n",
        "from sklearn.tree import DecisionTreeClassifier"
      ],
      "execution_count": 0,
      "outputs": []
    },
    {
      "cell_type": "code",
      "metadata": {
        "id": "eKQy_IKGv36H",
        "colab_type": "code",
        "colab": {}
      },
      "source": [
        "df = pd.read_csv('claims_final.csv')\n",
        "df['hosp_nxt_month.1'].fillna(0, inplace=True)\n",
        "\n",
        "# df['hosp_nxt_month'] is all zeros. Discarding\n",
        "assert len(df['hosp_nxt_month'].unique()) == 1\n",
        "assert len(df['year'].unique()) == 1\n",
        "df.drop(['hosp_nxt_month', 'year'], axis=1, inplace=True)\n",
        "\n",
        "category_type_columns = ['patient_id', 'provider', 'months', 'diagnosis',\n",
        "                         'hcpcs', 'hcpcs_grp', 'race', 'sex', 'age']\n",
        "\n",
        "for col in category_type_columns:\n",
        "    df[col] = df[col].astype('category').cat.codes\n",
        "\n",
        "X = df[['patient_id', 'los', 'provider', 'plcsrvc', 'months',\n",
        "        'claim_days', 'time_days', 'diagnosis', 'dgn_sequence', 'hcpcs',\n",
        "        'hcpcs_grp', 'age', 'race', 'sex']]\n",
        "\n",
        "y = df[['hosp_nxt_month.1']]"
      ],
      "execution_count": 0,
      "outputs": []
    },
    {
      "cell_type": "code",
      "metadata": {
        "id": "xOf1e2ubv6Wj",
        "colab_type": "code",
        "outputId": "24f97bc1-ed9b-4090-dfef-84a87fba9a63",
        "colab": {
          "base_uri": "https://localhost:8080/",
          "height": 34
        }
      },
      "source": [
        "scaler = StandardScaler()\n",
        "\n",
        "X_train, X_test, y_train, y_test = train_test_split(\n",
        "    X, y, test_size=0.33, random_state=42, shuffle=True)\n",
        "\n",
        "scaler.fit(X_train)\n",
        "X_train = scaler.transform(X_train)\n",
        "\n",
        "classifier = DecisionTreeClassifier()\n",
        "classifier.fit(X_train, y_train)\n",
        "\n",
        "predicted = classifier.predict(scaler.transform(X_test))\n",
        "\n",
        "accuracy_score(y_test, predicted)"
      ],
      "execution_count": 0,
      "outputs": [
        {
          "output_type": "execute_result",
          "data": {
            "text/plain": [
              "1.0"
            ]
          },
          "metadata": {
            "tags": []
          },
          "execution_count": 3
        }
      ]
    },
    {
      "cell_type": "code",
      "metadata": {
        "id": "lu1RxS6xINq_",
        "colab_type": "code",
        "outputId": "b45aceb2-62c7-4de9-da68-04edf54f5398",
        "colab": {
          "base_uri": "https://localhost:8080/",
          "height": 68
        }
      },
      "source": [
        "y_test['hosp_nxt_month.1'].value_counts()"
      ],
      "execution_count": 0,
      "outputs": [
        {
          "output_type": "execute_result",
          "data": {
            "text/plain": [
              "0.0    618501\n",
              "1.0      3907\n",
              "Name: hosp_nxt_month.1, dtype: int64"
            ]
          },
          "metadata": {
            "tags": []
          },
          "execution_count": 5
        }
      ]
    }
  ]
}